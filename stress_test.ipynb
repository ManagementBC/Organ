{
  "cells": [
    {
      "cell_type": "markdown",
      "metadata": {
        "id": "view-in-github",
        "colab_type": "text"
      },
      "source": [
        "<a href=\"https://colab.research.google.com/github/ManagementBC/Organ/blob/main/stress_test.ipynb\" target=\"_parent\"><img src=\"https://colab.research.google.com/assets/colab-badge.svg\" alt=\"Open In Colab\"/></a>"
      ]
    },
    {
      "cell_type": "code",
      "execution_count": null,
      "metadata": {
        "id": "t7h7XJ6KnFga"
      },
      "outputs": [],
      "source": [
        "\n",
        "!pip install web3\n",
        "!pip install requests\n",
        "!pip install ipfshttpclient\n",
        "\n"
      ]
    },
    {
      "cell_type": "code",
      "execution_count": null,
      "metadata": {
        "colab": {
          "base_uri": "https://localhost:8080/"
        },
        "id": "H_hppLpDnfPs",
        "outputId": "2257a60b-460b-44e8-e047-d40a8fbf1e68"
      },
      "outputs": [
        {
          "name": "stdout",
          "output_type": "stream",
          "text": [
            "Found existing installation: web3 6.12.0\n",
            "Uninstalling web3-6.12.0:\n",
            "  Successfully uninstalled web3-6.12.0\n",
            "Found existing installation: eth_abi 5.2.0\n",
            "Uninstalling eth_abi-5.2.0:\n",
            "  Successfully uninstalled eth_abi-5.2.0\n",
            "Found existing installation: parsimonious 0.10.0\n",
            "Uninstalling parsimonious-0.10.0:\n",
            "  Successfully uninstalled parsimonious-0.10.0\n"
          ]
        }
      ],
      "source": [
        "!pip uninstall -y web3 eth-abi parsimonious\n",
        "\n"
      ]
    },
    {
      "cell_type": "code",
      "execution_count": null,
      "metadata": {
        "id": "QQsVP3f0oALc"
      },
      "outputs": [],
      "source": [
        "!pip install parsimonious==0.10.0 --quiet\n",
        "!pip install web3==6.12.0 requests --quiet\n"
      ]
    },
    {
      "cell_type": "code",
      "execution_count": null,
      "metadata": {
        "id": "xGgAmsjIomNW"
      },
      "outputs": [],
      "source": [
        "from web3 import Web3\n",
        "import openai\n",
        "import base64\n",
        "import json\n",
        "import requests\n"
      ]
    },
    {
      "cell_type": "code",
      "execution_count": null,
      "metadata": {
        "id": "pNzKIguQlm2U"
      },
      "outputs": [],
      "source": [
        "from web3 import Web3\n",
        "import openai\n",
        "import base64\n",
        "import json\n",
        "\n",
        "# ───── Ethereum / Smart Contract Setup ─────\n",
        "ETH_RPC_URL = \"https://sepolia.infura.io/v3/xxxxxxxxxxxx\"\n",
        "PRIVATE_KEY = \"xxxxxxxxxxxxxxxxxxxxxx\"  # 🔐 Replace with your private key (never share)\n",
        "SENDER_ADDRESS = Web3(Web3.HTTPProvider(ETH_RPC_URL)).eth.account.from_key(PRIVATE_KEY).address\n",
        "\n",
        "CONTRACT_ADDRESS = \"0x2B12f78430ad8DaDF1edcB20243A26aED8D0A3c9\"  # 🔁 Replace with actual address\n",
        "\n",
        "contract_abi = '''[{\"inputs\":[{\"internalType\":\"address\",\"name\":\"_regulator\",\"type\":\"address\"}],\"stateMutability\":\"nonpayable\",\"type\":\"constructor\"},{\"anonymous\":false,\"inputs\":[{\"indexed\":true,\"internalType\":\"uint256\",\"name\":\"matchId\",\"type\":\"uint256\"},{\"indexed\":false,\"internalType\":\"string\",\"name\":\"approvedBy\",\"type\":\"string\"}],\"name\":\"ApprovalGranted\",\"type\":\"event\"},{\"anonymous\":false,\"inputs\":[{\"indexed\":true,\"internalType\":\"address\",\"name\":\"donorAddress\",\"type\":\"address\"}],\"name\":\"DonorAddressRegistered\",\"type\":\"event\"},{\"anonymous\":false,\"inputs\":[{\"indexed\":true,\"internalType\":\"uint256\",\"name\":\"donorId\",\"type\":\"uint256\"},{\"indexed\":true,\"internalType\":\"address\",\"name\":\"donorAddress\",\"type\":\"address\"},{\"indexed\":false,\"internalType\":\"string\",\"name\":\"organType\",\"type\":\"string\"}],\"name\":\"DonorRegistered\",\"type\":\"event\"},{\"anonymous\":false,\"inputs\":[{\"indexed\":true,\"internalType\":\"uint256\",\"name\":\"id\",\"type\":\"uint256\"},{\"indexed\":false,\"internalType\":\"string\",\"name\":\"entityType\",\"type\":\"string\"}],\"name\":\"EthicalApprovalGranted\",\"type\":\"event\"},{\"anonymous\":false,\"inputs\":[{\"indexed\":true,\"internalType\":\"address\",\"name\":\"committeeMember\",\"type\":\"address\"}],\"name\":\"EthicalCommitteeMemberRegistered\",\"type\":\"event\"},{\"anonymous\":false,\"inputs\":[{\"indexed\":true,\"internalType\":\"address\",\"name\":\"llmAddress\",\"type\":\"address\"}],\"name\":\"LLMRegistered\",\"type\":\"event\"},{\"anonymous\":false,\"inputs\":[{\"indexed\":true,\"internalType\":\"uint256\",\"name\":\"matchId\",\"type\":\"uint256\"},{\"indexed\":true,\"internalType\":\"uint256\",\"name\":\"donorId\",\"type\":\"uint256\"},{\"indexed\":true,\"internalType\":\"uint256\",\"name\":\"recipientId\",\"type\":\"uint256\"},{\"indexed\":false,\"internalType\":\"address\",\"name\":\"llm\",\"type\":\"address\"}],\"name\":\"MatchRecorded\",\"type\":\"event\"},{\"anonymous\":false,\"inputs\":[{\"indexed\":true,\"internalType\":\"address\",\"name\":\"recipientAddress\",\"type\":\"address\"}],\"name\":\"RecipientAddressRegistered\",\"type\":\"event\"},{\"anonymous\":false,\"inputs\":[{\"indexed\":true,\"internalType\":\"uint256\",\"name\":\"recipientId\",\"type\":\"uint256\"},{\"indexed\":true,\"internalType\":\"address\",\"name\":\"recipientAddress\",\"type\":\"address\"},{\"indexed\":false,\"internalType\":\"string\",\"name\":\"organType\",\"type\":\"string\"}],\"name\":\"RecipientRegistered\",\"type\":\"event\"},{\"inputs\":[{\"internalType\":\"uint256\",\"name\":\"matchId\",\"type\":\"uint256\"}],\"name\":\"approveDonor\",\"outputs\":[],\"stateMutability\":\"nonpayable\",\"type\":\"function\"},{\"inputs\":[{\"internalType\":\"uint256\",\"name\":\"donorId\",\"type\":\"uint256\"}],\"name\":\"approveDonorEthicalCommittee\",\"outputs\":[],\"stateMutability\":\"nonpayable\",\"type\":\"function\"},{\"inputs\":[{\"internalType\":\"uint256\",\"name\":\"matchId\",\"type\":\"uint256\"}],\"name\":\"approveFinalTransplant\",\"outputs\":[],\"stateMutability\":\"nonpayable\",\"type\":\"function\"},{\"inputs\":[{\"internalType\":\"uint256\",\"name\":\"matchId\",\"type\":\"uint256\"}],\"name\":\"approveHospital\",\"outputs\":[],\"stateMutability\":\"nonpayable\",\"type\":\"function\"},{\"inputs\":[{\"internalType\":\"uint256\",\"name\":\"matchId\",\"type\":\"uint256\"}],\"name\":\"approveMedicalTeam\",\"outputs\":[],\"stateMutability\":\"nonpayable\",\"type\":\"function\"},{\"inputs\":[{\"internalType\":\"uint256\",\"name\":\"matchId\",\"type\":\"uint256\"}],\"name\":\"approveRecipient\",\"outputs\":[],\"stateMutability\":\"nonpayable\",\"type\":\"function\"},{\"inputs\":[{\"internalType\":\"uint256\",\"name\":\"recipientId\",\"type\":\"uint256\"}],\"name\":\"approveRecipientEthicalCommittee\",\"outputs\":[],\"stateMutability\":\"nonpayable\",\"type\":\"function\"},{\"inputs\":[{\"internalType\":\"address\",\"name\":\"\",\"type\":\"address\"}],\"name\":\"authorizedLLMs\",\"outputs\":[{\"internalType\":\"bool\",\"name\":\"\",\"type\":\"bool\"}],\"stateMutability\":\"view\",\"type\":\"function\"},{\"inputs\":[{\"internalType\":\"uint256\",\"name\":\"donorId\",\"type\":\"uint256\"},{\"internalType\":\"uint256\",\"name\":\"recipientId1\",\"type\":\"uint256\"},{\"internalType\":\"uint256\",\"name\":\"recipientId2\",\"type\":\"uint256\"}],\"name\":\"createMatch\",\"outputs\":[],\"stateMutability\":\"nonpayable\",\"type\":\"function\"},{\"inputs\":[],\"name\":\"donorCounter\",\"outputs\":[{\"internalType\":\"uint256\",\"name\":\"\",\"type\":\"uint256\"}],\"stateMutability\":\"view\",\"type\":\"function\"},{\"inputs\":[{\"internalType\":\"uint256\",\"name\":\"\",\"type\":\"uint256\"}],\"name\":\"donors\",\"outputs\":[{\"internalType\":\"uint256\",\"name\":\"donorId\",\"type\":\"uint256\"},{\"internalType\":\"address\",\"name\":\"donorAddress\",\"type\":\"address\"},{\"internalType\":\"string\",\"name\":\"bloodType\",\"type\":\"string\"},{\"internalType\":\"string\",\"name\":\"hlaTyping\",\"type\":\"string\"},{\"internalType\":\"string\",\"name\":\"organType\",\"type\":\"string\"},{\"internalType\":\"string\",\"name\":\"ipfsHash\",\"type\":\"string\"},{\"internalType\":\"bool\",\"name\":\"registered\",\"type\":\"bool\"},{\"internalType\":\"bool\",\"name\":\"ethicalApproved\",\"type\":\"bool\"}],\"stateMutability\":\"view\",\"type\":\"function\"},{\"inputs\":[{\"internalType\":\"uint256\",\"name\":\"matchId\",\"type\":\"uint256\"}],\"name\":\"isTransplantApproved\",\"outputs\":[{\"internalType\":\"bool\",\"name\":\"\",\"type\":\"bool\"}],\"stateMutability\":\"view\",\"type\":\"function\"},{\"inputs\":[],\"name\":\"matchCounter\",\"outputs\":[{\"internalType\":\"uint256\",\"name\":\"\",\"type\":\"uint256\"}],\"stateMutability\":\"view\",\"type\":\"function\"},{\"inputs\":[{\"internalType\":\"uint256\",\"name\":\"\",\"type\":\"uint256\"}],\"name\":\"matches\",\"outputs\":[{\"internalType\":\"uint256\",\"name\":\"matchId\",\"type\":\"uint256\"},{\"internalType\":\"uint256\",\"name\":\"donorId\",\"type\":\"uint256\"},{\"internalType\":\"uint256\",\"name\":\"recipientId\",\"type\":\"uint256\"},{\"internalType\":\"address\",\"name\":\"matchedByLLM\",\"type\":\"address\"},{\"internalType\":\"bool\",\"name\":\"medicalApproved\",\"type\":\"bool\"},{\"internalType\":\"bool\",\"name\":\"hospitalApproved\",\"type\":\"bool\"},{\"internalType\":\"bool\",\"name\":\"donorApproved\",\"type\":\"bool\"},{\"internalType\":\"bool\",\"name\":\"recipientApproved\",\"type\":\"bool\"},{\"internalType\":\"bool\",\"name\":\"ethicalCommitteeApproved\",\"type\":\"bool\"}],\"stateMutability\":\"view\",\"type\":\"function\"},{\"inputs\":[],\"name\":\"recipientCounter\",\"outputs\":[{\"internalType\":\"uint256\",\"name\":\"\",\"type\":\"uint256\"}],\"stateMutability\":\"view\",\"type\":\"function\"},{\"inputs\":[{\"internalType\":\"uint256\",\"name\":\"\",\"type\":\"uint256\"}],\"name\":\"recipients\",\"outputs\":[{\"internalType\":\"uint256\",\"name\":\"recipientId\",\"type\":\"uint256\"},{\"internalType\":\"address\",\"name\":\"recipientAddress\",\"type\":\"address\"},{\"internalType\":\"string\",\"name\":\"bloodType\",\"type\":\"string\"},{\"internalType\":\"string\",\"name\":\"hlaTyping\",\"type\":\"string\"},{\"internalType\":\"string\",\"name\":\"organType\",\"type\":\"string\"},{\"internalType\":\"string\",\"name\":\"ipfsHash\",\"type\":\"string\"},{\"internalType\":\"bool\",\"name\":\"registered\",\"type\":\"bool\"},{\"internalType\":\"bool\",\"name\":\"matched\",\"type\":\"bool\"},{\"internalType\":\"bool\",\"name\":\"ethicalApproved\",\"type\":\"bool\"}],\"stateMutability\":\"view\",\"type\":\"function\"},{\"inputs\":[{\"internalType\":\"address\",\"name\":\"donorAddress\",\"type\":\"address\"},{\"internalType\":\"string\",\"name\":\"bloodType\",\"type\":\"string\"},{\"internalType\":\"string\",\"name\":\"hlaTyping\",\"type\":\"string\"},{\"internalType\":\"string\",\"name\":\"organType\",\"type\":\"string\"},{\"internalType\":\"string\",\"name\":\"ipfsHash\",\"type\":\"string\"}],\"name\":\"registerDonor\",\"outputs\":[],\"stateMutability\":\"nonpayable\",\"type\":\"function\"},{\"inputs\":[{\"internalType\":\"address\",\"name\":\"donorAddress\",\"type\":\"address\"}],\"name\":\"registerDonorAddress\",\"outputs\":[],\"stateMutability\":\"nonpayable\",\"type\":\"function\"},{\"inputs\":[{\"internalType\":\"address\",\"name\":\"committeeMember\",\"type\":\"address\"}],\"name\":\"registerEthicalCommittee\",\"outputs\":[],\"stateMutability\":\"nonpayable\",\"type\":\"function\"},{\"inputs\":[{\"internalType\":\"address\",\"name\":\"hospital\",\"type\":\"address\"}],\"name\":\"registerHospital\",\"outputs\":[],\"stateMutability\":\"nonpayable\",\"type\":\"function\"},{\"inputs\":[{\"internalType\":\"address\",\"name\":\"llm\",\"type\":\"address\"}],\"name\":\"registerLLM\",\"outputs\":[],\"stateMutability\":\"nonpayable\",\"type\":\"function\"},{\"inputs\":[{\"internalType\":\"address\",\"name\":\"medicalTeam\",\"type\":\"address\"}],\"name\":\"registerMedicalTeam\",\"outputs\":[],\"stateMutability\":\"nonpayable\",\"type\":\"function\"},{\"inputs\":[{\"internalType\":\"address\",\"name\":\"recipientAddress\",\"type\":\"address\"},{\"internalType\":\"string\",\"name\":\"bloodType\",\"type\":\"string\"},{\"internalType\":\"string\",\"name\":\"hlaTyping\",\"type\":\"string\"},{\"internalType\":\"string\",\"name\":\"organType\",\"type\":\"string\"},{\"internalType\":\"string\",\"name\":\"ipfsHash\",\"type\":\"string\"}],\"name\":\"registerRecipient\",\"outputs\":[],\"stateMutability\":\"nonpayable\",\"type\":\"function\"},{\"inputs\":[{\"internalType\":\"address\",\"name\":\"recipientAddress\",\"type\":\"address\"}],\"name\":\"registerRecipientAddress\",\"outputs\":[],\"stateMutability\":\"nonpayable\",\"type\":\"function\"},{\"inputs\":[{\"internalType\":\"address\",\"name\":\"\",\"type\":\"address\"}],\"name\":\"registeredDonorAddresses\",\"outputs\":[{\"internalType\":\"uint256\",\"name\":\"\",\"type\":\"uint256\"}],\"stateMutability\":\"view\",\"type\":\"function\"},{\"inputs\":[{\"internalType\":\"address\",\"name\":\"\",\"type\":\"address\"}],\"name\":\"registeredEthicalCommittee\",\"outputs\":[{\"internalType\":\"bool\",\"name\":\"\",\"type\":\"bool\"}],\"stateMutability\":\"view\",\"type\":\"function\"},{\"inputs\":[{\"internalType\":\"address\",\"name\":\"\",\"type\":\"address\"}],\"name\":\"registeredHospitals\",\"outputs\":[{\"internalType\":\"bool\",\"name\":\"\",\"type\":\"bool\"}],\"stateMutability\":\"view\",\"type\":\"function\"},{\"inputs\":[{\"internalType\":\"address\",\"name\":\"\",\"type\":\"address\"}],\"name\":\"registeredMedicalTeams\",\"outputs\":[{\"internalType\":\"bool\",\"name\":\"\",\"type\":\"bool\"}],\"stateMutability\":\"view\",\"type\":\"function\"},{\"inputs\":[{\"internalType\":\"address\",\"name\":\"\",\"type\":\"address\"}],\"name\":\"registeredRecipientAddresses\",\"outputs\":[{\"internalType\":\"uint256\",\"name\":\"\",\"type\":\"uint256\"}],\"stateMutability\":\"view\",\"type\":\"function\"},{\"inputs\":[],\"name\":\"regulator\",\"outputs\":[{\"internalType\":\"address\",\"name\":\"\",\"type\":\"address\"}],\"stateMutability\":\"view\",\"type\":\"function\"}]'''  # Replace with the contract ABI as a string\n",
        "\n",
        "\n",
        "w3 = Web3(Web3.HTTPProvider(ETH_RPC_URL))\n",
        "contract = w3.eth.contract(address=CONTRACT_ADDRESS, abi=contract_abi)\n",
        "\n",
        "# ───── OpenAI Fine-tuned Model Setup ─────\n",
        "openai.api_key = \"xxxxxxxxxxxxxxxxxxxxxxxxxxxxxx\"  # ✅ Your API key\n",
        "MODEL_ID = \"ft:gpt-4o-mini-2024-07-18:personal:organdonations:AmbvC8Vu\"\n",
        "\n",
        "# ───── IPFS (via Pinata) Setup ─────\n",
        "pinata_api_key = \"xxxxxxxxx\"\n",
        "pinata_secret_api_key = \"xxxxxxxxxxxxxxxxxx\"\n",
        "\n",
        "def fetch_patient_data_from_ipfs(patient_id: int):\n",
        "    \"\"\"\n",
        "    Fetches donor IPFS data by calling the smart contract and accessing via Pinata.\n",
        "    \"\"\"\n",
        "    try:\n",
        "        # Get IPFS hash from `donors` mapping\n",
        "        donor_data = contract.functions.donors(patient_id).call()\n",
        "        ipfs_hash = donor_data[5]  # index 5 = ipfsHash in the Donor struct\n",
        "    except Exception as e:\n",
        "        print(f\"❌ Error retrieving IPFS hash from contract: {e}\")\n",
        "        return None\n",
        "\n",
        "    try:\n",
        "        url = f\"https://gateway.pinata.cloud/ipfs/{ipfs_hash}\"\n",
        "        headers = {\n",
        "            \"pinata_api_key\": pinata_api_key,\n",
        "            \"pinata_secret_api_key\": pinata_secret_api_key\n",
        "        }\n",
        "        response = requests.get(url, headers=headers, timeout=60)\n",
        "        if response.status_code == 200:\n",
        "            print(f\"✅ Retrieved data for donor {patient_id}\")\n",
        "            return response.json()\n",
        "        else:\n",
        "            print(f\"❌ IPFS fetch failed: {response.status_code} - {response.text}\")\n",
        "            return None\n",
        "    except Exception as e:\n",
        "        print(f\"❌ Error fetching from Pinata: {e}\")\n",
        "        return None\n"
      ]
    },
    {
      "cell_type": "code",
      "execution_count": null,
      "metadata": {
        "id": "OQk8LcZJqu3w"
      },
      "outputs": [],
      "source": [
        "contract = w3.eth.contract(address=CONTRACT_ADDRESS, abi=contract_abi)\n"
      ]
    },
    {
      "cell_type": "code",
      "execution_count": null,
      "metadata": {
        "id": "awL4ldImpG_S"
      },
      "outputs": [],
      "source": [
        "import time\n",
        "from concurrent.futures import ThreadPoolExecutor, as_completed\n",
        "\n",
        "# --- On-Chain: matchDonor Transaction ---\n",
        "def send_match_donor_tx(donor_id: str):\n",
        "    \"\"\"\n",
        "    Calls createMatch on the contract (with the same recipient used twice if only 1 exists).\n",
        "    \"\"\"\n",
        "    try:\n",
        "        nonce = w3.eth.get_transaction_count(SENDER_ADDRESS)\n",
        "        tx = contract.functions.createMatch(\n",
        "            int(donor_id),   # donor ID\n",
        "            1,               # recipientId1 (same)\n",
        "            1                # recipientId2 (same, due to 1 recipient only)\n",
        "        ).build_transaction({\n",
        "            \"from\": SENDER_ADDRESS,\n",
        "            \"nonce\": nonce,\n",
        "            \"gas\": 400000,\n",
        "            \"maxFeePerGas\": w3.to_wei(30, 'gwei'),\n",
        "            \"maxPriorityFeePerGas\": w3.to_wei(2, 'gwei')\n",
        "        })\n",
        "        signed_tx = w3.eth.account.sign_transaction(tx, private_key=PRIVATE_KEY)\n",
        "        start_time = time.time()\n",
        "        tx_hash = w3.eth.send_raw_transaction(signed_tx.rawTransaction)\n",
        "        receipt = w3.eth.wait_for_transaction_receipt(tx_hash)\n",
        "        end_time = time.time()\n",
        "        return {\n",
        "            \"donor_id\": donor_id,\n",
        "            \"tx_hash\": tx_hash.hex(),\n",
        "            \"receipt_time\": end_time - start_time,\n",
        "            \"gas_used\": receipt.gasUsed\n",
        "        }\n",
        "    except Exception as e:\n",
        "        return {\"donor_id\": donor_id, \"error\": str(e)}\n",
        "\n",
        "# --- IPFS: Fetch Patient Data ---\n",
        "def fetch_ipfs(patient_index: int):\n",
        "    \"\"\"\n",
        "    Uses the smart contract to get the IPFS hash and fetches the data from Pinata.\n",
        "    \"\"\"\n",
        "    try:\n",
        "        start_time = time.time()\n",
        "        result = fetch_patient_data_from_ipfs(patient_index)\n",
        "        end_time = time.time()\n",
        "        if result:\n",
        "            return {\n",
        "                \"patient_index\": patient_index,\n",
        "                \"ipfs_data\": result,\n",
        "                \"response_time\": end_time - start_time\n",
        "            }\n",
        "        else:\n",
        "            return {\"patient_index\": patient_index, \"error\": \"Failed to retrieve or decode IPFS JSON.\"}\n",
        "    except Exception as e:\n",
        "        return {\"patient_index\": patient_index, \"error\": str(e)}\n",
        "\n",
        "# --- Full Stress Test Runner ---\n",
        "def full_pipeline_stress_test(patient_ids, max_workers=5, do_onchain=True, do_offchain=True, do_ipfs=True):\n",
        "    \"\"\"\n",
        "    Executes full stress test: blockchain matchDonor + LLM call + IPFS fetch in parallel.\n",
        "    \"\"\"\n",
        "    print(f\"🚀 Starting stress test with {len(patient_ids)} patients using {max_workers} threads...\\n\")\n",
        "    results = []\n",
        "\n",
        "    def task(pid):\n",
        "        res = {\"patient_id\": pid}\n",
        "        if do_onchain:\n",
        "            res[\"onchain\"] = send_match_donor_tx(str(pid))\n",
        "        if do_offchain:\n",
        "            res[\"llm\"] = call_llm_matcher(str(pid))\n",
        "        if do_ipfs:\n",
        "            res[\"ipfs\"] = fetch_ipfs(pid)\n",
        "        return res\n",
        "\n",
        "    with ThreadPoolExecutor(max_workers=max_workers) as executor:\n",
        "        futures = [executor.submit(task, pid) for pid in patient_ids]\n",
        "        for fut in as_completed(futures):\n",
        "            result = fut.result()\n",
        "            results.append(result)\n",
        "            print(f\"✅ Completed: {result['patient_id']}\")\n",
        "\n",
        "    print(\"\\n📊 Test Summary:\")\n",
        "    onchain_times = [r[\"onchain\"][\"receipt_time\"] for r in results if \"onchain\" in r and \"receipt_time\" in r[\"onchain\"]]\n",
        "    llm_times = [r[\"llm\"][\"response_time\"] for r in results if \"llm\" in r and \"response_time\" in r[\"llm\"]]\n",
        "    ipfs_times = [r[\"ipfs\"][\"response_time\"] for r in results if \"ipfs\" in r and \"response_time\" in r[\"ipfs\"]]\n",
        "\n",
        "    if onchain_times:\n",
        "        print(f\"⏱ Average On-Chain Time: {sum(onchain_times)/len(onchain_times):.2f} sec\")\n",
        "    if llm_times:\n",
        "        print(f\"⏱ Average LLM Time: {sum(llm_times)/len(llm_times):.2f} sec\")\n",
        "    if ipfs_times:\n",
        "        print(f\"⏱ Average IPFS Fetch Time: {sum(ipfs_times)/len(ipfs_times):.2f} sec\")\n",
        "\n",
        "    return results\n",
        "\n"
      ]
    },
    {
      "cell_type": "code",
      "execution_count": null,
      "metadata": {
        "id": "wWV4yM_Tvapo"
      },
      "outputs": [],
      "source": [
        "import openai\n",
        "openai.api_key = \"xxxxxxxxxxxxxxxxxxxx\"\n",
        "\n",
        "def call_llm_matcher(donor_id: str):\n",
        "    try:\n",
        "        start_time = time.time()\n",
        "        response = openai.ChatCompletion.create(\n",
        "            model=\"gpt-4\",  # or your fine-tuned model ID\n",
        "            messages=[\n",
        "                {\"role\": \"system\", \"content\": \"You are an expert in organ donor-recipient matching.\"},\n",
        "                {\"role\": \"user\", \"content\": f\"Find a match for donor ID: {donor_id}\"}\n",
        "            ]\n",
        "        )\n",
        "        end_time = time.time()\n",
        "        return {\n",
        "            \"donor_id\": donor_id,\n",
        "            \"llm_output\": response.choices[0].message[\"content\"].strip(),\n",
        "            \"response_time\": end_time - start_time\n",
        "        }\n",
        "    except Exception as e:\n",
        "        return {\"donor_id\": donor_id, \"error\": str(e)}\n",
        "\n"
      ]
    },
    {
      "cell_type": "code",
      "execution_count": null,
      "metadata": {
        "id": "yeA-WSEGs8D9"
      },
      "outputs": [],
      "source": [
        "results = full_pipeline_stress_test(patient_ids=[1], max_workers=1)\n"
      ]
    },
    {
      "cell_type": "code",
      "source": [
        "results = full_pipeline_stress_test(patient_ids=list(range(1, 51)), max_workers=10)"
      ],
      "metadata": {
        "id": "lDza3M3TDk1I"
      },
      "execution_count": null,
      "outputs": []
    },
    {
      "cell_type": "code",
      "execution_count": null,
      "metadata": {
        "colab": {
          "base_uri": "https://localhost:8080/"
        },
        "id": "HMlvY8Zhtzgi",
        "outputId": "7d6c0c33-ef94-4af9-c6b2-5f28e4fbb96d"
      },
      "outputs": [
        {
          "name": "stdout",
          "output_type": "stream",
          "text": [
            "Requirement already satisfied: openai==0.28 in /usr/local/lib/python3.11/dist-packages (0.28.0)\n",
            "Requirement already satisfied: requests>=2.20 in /usr/local/lib/python3.11/dist-packages (from openai==0.28) (2.32.3)\n",
            "Requirement already satisfied: tqdm in /usr/local/lib/python3.11/dist-packages (from openai==0.28) (4.67.1)\n",
            "Requirement already satisfied: aiohttp in /usr/local/lib/python3.11/dist-packages (from openai==0.28) (3.11.15)\n",
            "Requirement already satisfied: charset-normalizer<4,>=2 in /usr/local/lib/python3.11/dist-packages (from requests>=2.20->openai==0.28) (3.4.2)\n",
            "Requirement already satisfied: idna<4,>=2.5 in /usr/local/lib/python3.11/dist-packages (from requests>=2.20->openai==0.28) (3.10)\n",
            "Requirement already satisfied: urllib3<3,>=1.21.1 in /usr/local/lib/python3.11/dist-packages (from requests>=2.20->openai==0.28) (2.4.0)\n",
            "Requirement already satisfied: certifi>=2017.4.17 in /usr/local/lib/python3.11/dist-packages (from requests>=2.20->openai==0.28) (2025.4.26)\n",
            "Requirement already satisfied: aiohappyeyeballs>=2.3.0 in /usr/local/lib/python3.11/dist-packages (from aiohttp->openai==0.28) (2.6.1)\n",
            "Requirement already satisfied: aiosignal>=1.1.2 in /usr/local/lib/python3.11/dist-packages (from aiohttp->openai==0.28) (1.3.2)\n",
            "Requirement already satisfied: attrs>=17.3.0 in /usr/local/lib/python3.11/dist-packages (from aiohttp->openai==0.28) (25.3.0)\n",
            "Requirement already satisfied: frozenlist>=1.1.1 in /usr/local/lib/python3.11/dist-packages (from aiohttp->openai==0.28) (1.6.0)\n",
            "Requirement already satisfied: multidict<7.0,>=4.5 in /usr/local/lib/python3.11/dist-packages (from aiohttp->openai==0.28) (6.4.4)\n",
            "Requirement already satisfied: propcache>=0.2.0 in /usr/local/lib/python3.11/dist-packages (from aiohttp->openai==0.28) (0.3.1)\n",
            "Requirement already satisfied: yarl<2.0,>=1.17.0 in /usr/local/lib/python3.11/dist-packages (from aiohttp->openai==0.28) (1.20.0)\n"
          ]
        }
      ],
      "source": [
        "pip install openai==0.28\n"
      ]
    }
  ],
  "metadata": {
    "colab": {
      "provenance": [],
      "include_colab_link": true
    },
    "kernelspec": {
      "display_name": "Python 3",
      "name": "python3"
    },
    "language_info": {
      "name": "python"
    }
  },
  "nbformat": 4,
  "nbformat_minor": 0
}